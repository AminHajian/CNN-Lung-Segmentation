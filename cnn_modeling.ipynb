{
 "cells": [
  {
   "cell_type": "markdown",
   "metadata": {},
   "source": [
    "### Load and preprocessing images  "
   ]
  },
  {
   "cell_type": "code",
   "execution_count": 1,
   "metadata": {},
   "outputs": [
    {
     "data": {
      "text/plain": [
       "array(['0', '1'], dtype='<U1')"
      ]
     },
     "execution_count": 1,
     "metadata": {},
     "output_type": "execute_result"
    }
   ],
   "source": [
    "import os\n",
    "import cv2\n",
    "import numpy as np\n",
    "import random\n",
    "from PIL import Image\n",
    "import matplotlib.pyplot as plt\n",
    "from tensorflow.keras.utils import to_categorical\n",
    "from sklearn.model_selection import train_test_split\n",
    "\n",
    "# The address of the folder where the images are located\n",
    "path = \"C:\\\\Users\\\\Amin\\\\Desktop\\\\Mask\"\n",
    "\n",
    "images = []\n",
    "labels = []\n",
    "image_list = os.listdir(path)\n",
    "image_size = 64\n",
    "for image_name in image_list: \n",
    "    image_path = os.path.join(path, image_name)\n",
    "    image = cv2.imread(image_path, cv2.IMREAD_GRAYSCALE)\n",
    "    image = cv2.resize(image, (image_size,image_size)) \n",
    "    image = image.astype('float32')         \n",
    "    image = image / 255.0                           \n",
    "    images.append(image)\n",
    "    labels.append(image_name[-5])\n",
    "np.unique(labels)"
   ]
  },
  {
   "cell_type": "markdown",
   "metadata": {},
   "source": [
    "### Separate x and y data"
   ]
  },
  {
   "cell_type": "code",
   "execution_count": 2,
   "metadata": {},
   "outputs": [
    {
     "name": "stdout",
     "output_type": "stream",
     "text": [
      "images:  (1238, 64, 64)\n",
      "Labels:  (1238, 2)\n",
      "[[1. 0.]\n",
      " [1. 0.]\n",
      " [1. 0.]\n",
      " ...\n",
      " [1. 0.]\n",
      " [1. 0.]\n",
      " [1. 0.]]\n"
     ]
    }
   ],
   "source": [
    "images = np.array(images)\n",
    "labels = to_categorical(labels, num_classes=2)\n",
    "\n",
    "print(\"images: \",images.shape)\n",
    "print(\"Labels: \",labels.shape)\n",
    "print(labels)"
   ]
  },
  {
   "cell_type": "markdown",
   "metadata": {},
   "source": [
    "### Separate train and test data"
   ]
  },
  {
   "cell_type": "code",
   "execution_count": 3,
   "metadata": {},
   "outputs": [
    {
     "name": "stdout",
     "output_type": "stream",
     "text": [
      "train_images:  (990, 64, 64)\n",
      "test_images:   (248, 64, 64)\n",
      "train_labels:  (990, 2)\n",
      "test_labels:   (248, 2)\n"
     ]
    }
   ],
   "source": [
    "train_images, test_images, train_labels, test_labels = train_test_split(images, labels, test_size=0.2, random_state=3)\n",
    "\n",
    "print(\"train_images: \",train_images.shape)\n",
    "print(\"test_images:  \",test_images.shape)\n",
    "print(\"train_labels: \",train_labels.shape)\n",
    "print(\"test_labels:  \",test_labels.shape)"
   ]
  },
  {
   "cell_type": "markdown",
   "metadata": {},
   "source": [
    "### Modeling"
   ]
  },
  {
   "cell_type": "code",
   "execution_count": 4,
   "metadata": {},
   "outputs": [
    {
     "name": "stdout",
     "output_type": "stream",
     "text": [
      "Model: \"sequential\"\n",
      "_________________________________________________________________\n",
      " Layer (type)                Output Shape              Param #   \n",
      "=================================================================\n",
      " conv2d (Conv2D)             (None, 56, 56, 32)        2624      \n",
      "                                                                 \n",
      " max_pooling2d (MaxPooling2  (None, 28, 28, 32)        0         \n",
      " D)                                                              \n",
      "                                                                 \n",
      " dropout (Dropout)           (None, 28, 28, 32)        0         \n",
      "                                                                 \n",
      " conv2d_1 (Conv2D)           (None, 20, 20, 64)        165952    \n",
      "                                                                 \n",
      " max_pooling2d_1 (MaxPoolin  (None, 10, 10, 64)        0         \n",
      " g2D)                                                            \n",
      "                                                                 \n",
      " dropout_1 (Dropout)         (None, 10, 10, 64)        0         \n",
      "                                                                 \n",
      " conv2d_2 (Conv2D)           (None, 2, 2, 128)         663680    \n",
      "                                                                 \n",
      " max_pooling2d_2 (MaxPoolin  (None, 1, 1, 128)         0         \n",
      " g2D)                                                            \n",
      "                                                                 \n",
      " dropout_2 (Dropout)         (None, 1, 1, 128)         0         \n",
      "                                                                 \n",
      " flatten (Flatten)           (None, 128)               0         \n",
      "                                                                 \n",
      " dense (Dense)               (None, 512)               66048     \n",
      "                                                                 \n",
      " dropout_3 (Dropout)         (None, 512)               0         \n",
      "                                                                 \n",
      " dense_1 (Dense)             (None, 2)                 1026      \n",
      "                                                                 \n",
      "=================================================================\n",
      "Total params: 899330 (3.43 MB)\n",
      "Trainable params: 899330 (3.43 MB)\n",
      "Non-trainable params: 0 (0.00 Byte)\n",
      "_________________________________________________________________\n",
      "None\n"
     ]
    }
   ],
   "source": [
    "import keras\n",
    "from keras.datasets import mnist\n",
    "from keras.models import Sequential\n",
    "from keras.layers import Dense, Dropout, Flatten\n",
    "from keras.layers import Conv2D, MaxPooling2D\n",
    "from keras import backend as K\n",
    "from keras.optimizers import SGD \n",
    "\n",
    "# create model\n",
    "model = Sequential()\n",
    "model.add(Conv2D(32 , kernel_size =(9,9) , activation='relu' , input_shape=(image_size,image_size,1) ))\n",
    "model.add(MaxPooling2D((2,2)))\n",
    "model.add(Dropout(0.25))\n",
    "\n",
    "model.add(Conv2D(64 , (9,9) , activation='relu'))\n",
    "model.add(MaxPooling2D((2,2)))\n",
    "model.add(Dropout(0.25))\n",
    "\n",
    "model.add(Conv2D(128 , (9,9) , activation='relu'))\n",
    "model.add(MaxPooling2D((2,2)))\n",
    "model.add(Dropout(0.25))\n",
    "\n",
    "# model.add(Conv2D(256 , (3,3) , activation='relu'))\n",
    "# model.add(MaxPooling2D((2,2)))\n",
    "# model.add(Dropout(0.25))\n",
    "\n",
    "model.add(Flatten())\n",
    "model.add(Dense(512, activation='relu'))\n",
    "model.add(Dropout(0.5))\n",
    "model.add(Dense(2, activation='softmax'))\n",
    "\n",
    "model.compile(loss = 'categorical_crossentropy',\n",
    "              optimizer = SGD(0.001),\n",
    "              metrics = ['accuracy'])\n",
    "\n",
    "print(model.summary())"
   ]
  },
  {
   "cell_type": "code",
   "execution_count": 5,
   "metadata": {},
   "outputs": [
    {
     "name": "stdout",
     "output_type": "stream",
     "text": [
      "Epoch 1/5\n",
      "31/31 [==============================] - 3s 85ms/step - loss: 0.6160 - accuracy: 0.7596 - val_loss: 0.6143 - val_accuracy: 0.7697\n",
      "Epoch 2/5\n",
      "31/31 [==============================] - 3s 84ms/step - loss: 0.5744 - accuracy: 0.7687 - val_loss: 0.5804 - val_accuracy: 0.7697\n",
      "Epoch 3/5\n",
      "31/31 [==============================] - 3s 84ms/step - loss: 0.5544 - accuracy: 0.7697 - val_loss: 0.5637 - val_accuracy: 0.7697\n",
      "Epoch 4/5\n",
      "31/31 [==============================] - 3s 84ms/step - loss: 0.5488 - accuracy: 0.7697 - val_loss: 0.5567 - val_accuracy: 0.7697\n",
      "Epoch 5/5\n",
      "31/31 [==============================] - 3s 83ms/step - loss: 0.5499 - accuracy: 0.7697 - val_loss: 0.5549 - val_accuracy: 0.7697\n"
     ]
    }
   ],
   "source": [
    "cnn = model.fit(train_images, train_labels, epochs=5,\n",
    "                    validation_data=(train_images, train_labels))"
   ]
  }
 ],
 "metadata": {
  "kernelspec": {
   "display_name": "base",
   "language": "python",
   "name": "python3"
  },
  "language_info": {
   "codemirror_mode": {
    "name": "ipython",
    "version": 3
   },
   "file_extension": ".py",
   "mimetype": "text/x-python",
   "name": "python",
   "nbconvert_exporter": "python",
   "pygments_lexer": "ipython3",
   "version": "3.9.16"
  },
  "orig_nbformat": 4
 },
 "nbformat": 4,
 "nbformat_minor": 2
}
