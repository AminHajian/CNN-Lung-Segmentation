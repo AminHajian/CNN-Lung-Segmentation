{
 "cells": [
  {
   "cell_type": "code",
   "execution_count": null,
   "metadata": {},
   "outputs": [],
   "source": [
    "import os\n",
    "import cv2\n",
    "import numpy as np\n",
    "from PIL import Image\n",
    "import matplotlib.pyplot as plt\n",
    "\n",
    "# The address of the folder where the images are located\n",
    "path = \"Chest\"\n",
    "image_list = os.listdir(path)\n",
    "loaded_image = []\n",
    "\n",
    "# Create the \"Mask\" directory if it doesn't exist\n",
    "current_dir = os.getcwd()\n",
    "output_dir = os.path.join(current_dir, \"Mask\")\n",
    "if not os.path.exists(output_dir):\n",
    "    os.makedirs(output_dir)"
   ]
  }
 ],
 "metadata": {
  "language_info": {
   "name": "python"
  },
  "orig_nbformat": 4
 },
 "nbformat": 4,
 "nbformat_minor": 2
}
